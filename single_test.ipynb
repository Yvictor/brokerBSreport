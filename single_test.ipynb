{
 "cells": [
  {
   "cell_type": "code",
   "execution_count": 1,
   "metadata": {
    "collapsed": false
   },
   "outputs": [
    {
     "name": "stderr",
     "output_type": "stream",
     "text": [
      "Using Theano backend.\n"
     ]
    }
   ],
   "source": [
    "import random\n",
    "from lxml import etree\n",
    "from twse import twseBSreport\n",
    "from tpex import tpexBSreport"
   ]
  },
  {
   "cell_type": "code",
   "execution_count": 2,
   "metadata": {
    "collapsed": true
   },
   "outputs": [],
   "source": [
    "import requests\n",
    "from bs4 import BeautifulSoup as BS\n",
    "from PIL import Image\n",
    "import io"
   ]
  },
  {
   "cell_type": "code",
   "execution_count": 3,
   "metadata": {
    "collapsed": true
   },
   "outputs": [],
   "source": [
    "from IPython.display import display"
   ]
  },
  {
   "cell_type": "code",
   "execution_count": 7,
   "metadata": {
    "collapsed": false
   },
   "outputs": [],
   "source": [
    "#! pip install google-api-python-client"
   ]
  },
  {
   "cell_type": "code",
   "execution_count": null,
   "metadata": {
    "collapsed": true
   },
   "outputs": [],
   "source": [
    "twsebsreport = twseBSreport()\n",
    "print(twsebsreport.OCR())\n",
    "twse_result = 0\n",
    "while twse_result==0 or twse_result==2:\n",
    "    stock_id = random.choice(twsebsreport.stockidL)\n",
    "    twse_result = twsebsreport.postpayload(stock_id, twsebsreport.OCR(), sleeptime=5)\n",
    "print(twsebsreport.singleprocess(stock_id))"
   ]
  },
  {
   "cell_type": "code",
   "execution_count": 4,
   "metadata": {
    "collapsed": false
   },
   "outputs": [
    {
     "name": "stdout",
     "output_type": "stream",
     "text": [
      "Get TPEX StockId List\n",
      "Done\n"
     ]
    }
   ],
   "source": [
    "tpexbsreport = tpexBSreport()"
   ]
  },
  {
   "cell_type": "code",
   "execution_count": 5,
   "metadata": {
    "collapsed": false
   },
   "outputs": [
    {
     "data": {
      "image/png": "[encoded data removed]",
      "text/plain": [
       "<PIL.PngImagePlugin.PngImageFile image mode=P size=130x30 at 0x7F89496395C0>"
      ]
     },
     "metadata": {},
     "output_type": "display_data"
    },
    {
     "data": {
      "text/plain": [
       "'RRKW8'"
      ]
     },
     "metadata": {},
     "output_type": "display_data"
    },
    {
     "data": {
      "text/plain": [
       "'%D7%C3%7B%09A%C8%C5vW%C3%D3S%D0%03xj'"
      ]
     },
     "metadata": {},
     "output_type": "display_data"
    }
   ],
   "source": [
    "ocr = tpexbsreport.OCR()\n",
    "display(ocr[0], ocr[1], ocr[2])"
   ]
  },
  {
   "cell_type": "code",
   "execution_count": 11,
   "metadata": {
    "collapsed": false
   },
   "outputs": [],
   "source": [
    "stockid = random.choice(tpexbsreport.stockidL)\n",
    "payload = { 'enname' : ocr[2],#('%25').join(enname.split('%'))\n",
    "            'stk_code': '%s' % str(stockid),\n",
    "            'auth_num': ocr[1]\n",
    "        }\n",
    "res = tpexbsreport.rs.post('http://www.tpex.org.tw/web/stock/aftertrading/broker_trading/brokerBS.php', data=payload)\n",
    "res.encoding = 'utf-8'\n",
    "soup = BS(res.text, \"lxml\")\n",
    "answ = soup.select('.pt10')[0].text"
   ]
  },
  {
   "cell_type": "code",
   "execution_count": 13,
   "metadata": {
    "collapsed": true
   },
   "outputs": [],
   "source": [
    "stock_id = random.choice(tpexbsreport.stockidL)\n",
    "tpex_result = tpexbsreport.postpayload(stock_id, tpexbsreport.OCR(), urltype=5)"
   ]
  },
  {
   "cell_type": "code",
   "execution_count": 12,
   "metadata": {
    "collapsed": false
   },
   "outputs": [
    {
     "data": {
      "text/plain": [
       "'\\n\\n\\n交易日期\\n106年01月19日\\n證券代號\\n3234\\xa0光環\\n\\n\\n成交筆數\\n1,737\\n成交金額\\n151,303,443&nbsp元\\n成交股數\\n2,749,511\\n週轉率(%)\\n3.78\\n\\n\\n開盤價\\n54.20\\n最高價\\n55.60  \\n最低價\\n54.00\\n收盤價\\n55.40\\n\\n\\n'"
      ]
     },
     "execution_count": 12,
     "metadata": {},
     "output_type": "execute_result"
    }
   ],
   "source": [
    "tpexbsreport.answ"
   ]
  },
  {
   "cell_type": "code",
   "execution_count": null,
   "metadata": {
    "collapsed": true
   },
   "outputs": [],
   "source": [
    "#http://www.tpex.org.tw/web/stock/aftertrading/broker_trading/download_ALLCSV_UTF-8.php?curstk=3234&stk_date=1060119&auth=3W6UW&n=%D6%5B-a%1D%0A%19%E7%E7%D6%03%FA%5C2%D2%81"
   ]
  },
  {
   "cell_type": "code",
   "execution_count": null,
   "metadata": {
    "collapsed": true
   },
   "outputs": [],
   "source": []
  },
  {
   "cell_type": "code",
   "execution_count": 23,
   "metadata": {
    "collapsed": true
   },
   "outputs": [],
   "source": [
    "def _get_session():\n",
    "    session = requests.session()\n",
    "    headers = {\n",
    "        \"user-agent\": \"mozilla/5.0 (x11; linux x86_64) applewebkit/537.36 \"\n",
    "                      \"(khtml, like gecko) \"\n",
    "                      \"chrome/46.0.2490.86 safari/537.36\"}\n",
    "    session.headers.update(headers)\n",
    "    return session"
   ]
  },
  {
   "cell_type": "code",
   "execution_count": 29,
   "metadata": {
    "collapsed": true
   },
   "outputs": [],
   "source": [
    "rs = _get_session()"
   ]
  },
  {
   "cell_type": "code",
   "execution_count": 30,
   "metadata": {
    "collapsed": false
   },
   "outputs": [
    {
     "data": {
      "text/plain": [
       "'%B4%B3%10%B6%FF%13R3mO%F5d%1Al%3D%3A'"
      ]
     },
     "execution_count": 30,
     "metadata": {},
     "output_type": "execute_result"
    }
   ],
   "source": [
    "res = rs.get('http://www.tpex.org.tw/web/stock/aftertrading/broker_trading/brokerBS.php')\n",
    "res.encoding = 'utf-8'\n",
    "soup = BS(res.text, \"lxml\")\n",
    "enname=soup.select('.form-inline input')[0].attrs['value']#'%2516%25D2%2505%25A2k%250E%25E3%25EC2%2598%25F50%25CE9%25EE%251C'\n",
    "enname"
   ]
  },
  {
   "cell_type": "code",
   "execution_count": 31,
   "metadata": {
    "collapsed": false
   },
   "outputs": [
    {
     "data": {
      "image/png": "[encoded data removed]",
      "text/plain": [
       "<PIL.PngImagePlugin.PngImageFile image mode=P size=130x30 at 0x7F45E1943208>"
      ]
     },
     "execution_count": 31,
     "metadata": {},
     "output_type": "execute_result"
    }
   ],
   "source": [
    "capt = rs.get('http://www.tpex.org.tw/web/inc/authnum_output.php?n=%s'%enname, verify=False)\n",
    "Image.open(io.BytesIO(capt.content))"
   ]
  },
  {
   "cell_type": "code",
   "execution_count": 32,
   "metadata": {
    "collapsed": false
   },
   "outputs": [
    {
     "data": {
      "text/plain": [
       "'GBVX9'"
      ]
     },
     "execution_count": 32,
     "metadata": {},
     "output_type": "execute_result"
    }
   ],
   "source": [
    "capt_str = tpexbsreport.captcha_rec.captcha_predict(tpexbsreport.captcha_rec.preprocess(Image.open(io.BytesIO(capt.content))))\n",
    "capt_str"
   ]
  },
  {
   "cell_type": "code",
   "execution_count": 33,
   "metadata": {
    "collapsed": false
   },
   "outputs": [],
   "source": [
    "stockid = 3234\n",
    "payload = { 'enname' : enname,#('%25').join(enname.split('%'))\n",
    "            'stk_code': '%s' % str(stockid),\n",
    "            'auth_num': capt_str\n",
    "        }\n",
    "res = rs.post('http://www.tpex.org.tw/web/stock/aftertrading/broker_trading/brokerBS.php', data=payload)\n",
    "res.encoding = 'utf-8'\n",
    "soup = BS(res.text, \"lxml\")\n",
    "answ = soup.select('.pt10')[0].text\n",
    "answ"
   ]
  },
  {
   "cell_type": "code",
   "execution_count": null,
   "metadata": {
    "collapsed": true
   },
   "outputs": [],
   "source": [
    "tpe"
   ]
  },
  {
   "cell_type": "code",
   "execution_count": 11,
   "metadata": {
    "collapsed": false
   },
   "outputs": [],
   "source": [
    "tpex_result = 0\n",
    "while tpex_result==0: #or tpex_result==2:\n",
    "    stock_id = random.choice(tpexbsreport.stockidL)\n",
    "    tpex_result = tpexbsreport.postpayload(stock_id, tpexbsreport.OCR(), urltype=5)\n",
    "#print(tpexbsreport.singleprocess(stock_id))"
   ]
  },
  {
   "cell_type": "code",
   "execution_count": 6,
   "metadata": {
    "collapsed": false
   },
   "outputs": [
    {
     "name": "stdout",
     "output_type": "stream",
     "text": [
      "\r",
      " 3234重新取得驗證碼次數:0"
     ]
    },
    {
     "name": "stderr",
     "output_type": "stream",
     "text": [
      "ERROR:\n",
      "    2017-01-20 04:51:19,830\n",
      "    Worker:\"NoWorkerName\"\n",
      "    ValueError: Cannot set a frame with no defined index and a value that cannot be converted to a Series\n",
      "    Traceback (most recent call last):\n",
      "  File \"/opt/conda/lib/python3.5/site-packages/pandas/core/common.py\", line 389, in _asarray_tuplesafe\n",
      "    result[:] = values\n",
      "ValueError: could not broadcast input array from shape (0,14) into shape (0)\n",
      "\n",
      "During handling of the above exception, another exception occurred:\n",
      "\n",
      "Traceback (most recent call last):\n",
      "  File \"/opt/conda/lib/python3.5/site-packages/pandas/core/frame.py\", line 2464, in _ensure_valid_index\n",
      "    value = Series(value)\n",
      "  File \"/opt/conda/lib/python3.5/site-packages/pandas/core/series.py\", line 243, in __init__\n",
      "    raise_cast_failure=True)\n",
      "  File \"/opt/conda/lib/python3.5/site-packages/pandas/core/series.py\", line 2952, in _sanitize_array\n",
      "    subarr = _asarray_tuplesafe(data, dtype=dtype)\n",
      "  File \"/opt/conda/lib/python3.5/site-packages/pandas/core/common.py\", line 392, in _asarray_tuplesafe\n",
      "    result[:] = [tuple(x) for x in values]\n",
      "ValueError: cannot copy sequence with size 14 to array axis with dimension 0\n",
      "\n",
      "During handling of the above exception, another exception occurred:\n",
      "\n",
      "Traceback (most recent call last):\n",
      "  File \"/home/brokerBSreport/utils/logging.py\", line 97, in new_func\n",
      "    res = func(*args, **kwargs)\n",
      "  File \"/home/brokerBSreport/tpex/tpexBsreport.py\", line 200, in _process_sort_data\n",
      "    table.insert(13, '買進金額', buyp)\n",
      "  File \"/opt/conda/lib/python3.5/site-packages/pandas/core/frame.py\", line 2508, in insert\n",
      "    self._ensure_valid_index(value)\n",
      "  File \"/opt/conda/lib/python3.5/site-packages/pandas/core/frame.py\", line 2466, in _ensure_valid_index\n",
      "    raise ValueError('Cannot set a frame with no defined index '\n",
      "ValueError: Cannot set a frame with no defined index and a value that cannot be converted to a Series\n",
      "Traceback (most recent call last):\n",
      "  File \"/opt/conda/lib/python3.5/site-packages/pandas/core/common.py\", line 389, in _asarray_tuplesafe\n",
      "    result[:] = values\n",
      "ValueError: could not broadcast input array from shape (0,14) into shape (0)\n",
      "\n",
      "During handling of the above exception, another exception occurred:\n",
      "\n",
      "Traceback (most recent call last):\n",
      "  File \"/opt/conda/lib/python3.5/site-packages/pandas/core/frame.py\", line 2464, in _ensure_valid_index\n",
      "    value = Series(value)\n",
      "  File \"/opt/conda/lib/python3.5/site-packages/pandas/core/series.py\", line 243, in __init__\n",
      "    raise_cast_failure=True)\n",
      "  File \"/opt/conda/lib/python3.5/site-packages/pandas/core/series.py\", line 2952, in _sanitize_array\n",
      "    subarr = _asarray_tuplesafe(data, dtype=dtype)\n",
      "  File \"/opt/conda/lib/python3.5/site-packages/pandas/core/common.py\", line 392, in _asarray_tuplesafe\n",
      "    result[:] = [tuple(x) for x in values]\n",
      "ValueError: cannot copy sequence with size 14 to array axis with dimension 0\n",
      "\n",
      "During handling of the above exception, another exception occurred:\n",
      "\n",
      "Traceback (most recent call last):\n",
      "  File \"/home/brokerBSreport/utils/logging.py\", line 97, in new_func\n",
      "    res = func(*args, **kwargs)\n",
      "  File \"/home/brokerBSreport/tpex/tpexBsreport.py\", line 200, in _process_sort_data\n",
      "    table.insert(13, '買進金額', buyp)\n",
      "  File \"/opt/conda/lib/python3.5/site-packages/pandas/core/frame.py\", line 2508, in insert\n",
      "    self._ensure_valid_index(value)\n",
      "  File \"/opt/conda/lib/python3.5/site-packages/pandas/core/frame.py\", line 2466, in _ensure_valid_index\n",
      "    raise ValueError('Cannot set a frame with no defined index '\n",
      "ValueError: Cannot set a frame with no defined index and a value that cannot be converted to a Series\n",
      "ERROR:\n",
      "    2017-01-20 04:51:19,832\n",
      "    Worker:\"NoWorkerName\"\n",
      "    AttributeError: 'NoneType' object has no attribute 'astype'\n",
      "    Traceback (most recent call last):\n",
      "  File \"/home/brokerBSreport/utils/logging.py\", line 97, in new_func\n",
      "    res = func(*args, **kwargs)\n",
      "  File \"/home/brokerBSreport/tpex/tpexBsreport.py\", line 226, in processdata\n",
      "    table_sort = self._process_sort_data(table).astype(np.float64)\n",
      "AttributeError: 'NoneType' object has no attribute 'astype'\n",
      "Traceback (most recent call last):\n",
      "  File \"/home/brokerBSreport/utils/logging.py\", line 97, in new_func\n",
      "    res = func(*args, **kwargs)\n",
      "  File \"/home/brokerBSreport/tpex/tpexBsreport.py\", line 226, in processdata\n",
      "    table_sort = self._process_sort_data(table).astype(np.float64)\n",
      "AttributeError: 'NoneType' object has no attribute 'astype'\n"
     ]
    },
    {
     "data": {
      "text/plain": [
       "1"
      ]
     },
     "execution_count": 6,
     "metadata": {},
     "output_type": "execute_result"
    }
   ],
   "source": [
    "stockid = 3234\n",
    "tpexbsreport.post_process(stockid)"
   ]
  },
  {
   "cell_type": "code",
   "execution_count": 7,
   "metadata": {
    "collapsed": true
   },
   "outputs": [],
   "source": [
    "table = tpexbsreport._process_ori_data(stockid)"
   ]
  },
  {
   "cell_type": "code",
   "execution_count": 8,
   "metadata": {
    "collapsed": false
   },
   "outputs": [
    {
     "data": {
      "text/html": [
       "<div>\n",
       "<table border=\"1\" class=\"dataframe\">\n",
       "  <thead>\n",
       "    <tr style=\"text-align: right;\">\n",
       "      <th></th>\n",
       "      <th>日期</th>\n",
       "      <th>代號</th>\n",
       "      <th>成交筆數</th>\n",
       "      <th>總成交金額</th>\n",
       "      <th>總成交股數</th>\n",
       "      <th>周轉率(%)</th>\n",
       "      <th>開盤價</th>\n",
       "      <th>最高價</th>\n",
       "      <th>最低價</th>\n",
       "      <th>收盤價</th>\n",
       "      <th>證券商</th>\n",
       "      <th>成交單價</th>\n",
       "      <th>買進股數</th>\n",
       "      <th>賣出股數</th>\n",
       "    </tr>\n",
       "    <tr>\n",
       "      <th>序</th>\n",
       "      <th></th>\n",
       "      <th></th>\n",
       "      <th></th>\n",
       "      <th></th>\n",
       "      <th></th>\n",
       "      <th></th>\n",
       "      <th></th>\n",
       "      <th></th>\n",
       "      <th></th>\n",
       "      <th></th>\n",
       "      <th></th>\n",
       "      <th></th>\n",
       "      <th></th>\n",
       "      <th></th>\n",
       "    </tr>\n",
       "  </thead>\n",
       "  <tbody>\n",
       "  </tbody>\n",
       "</table>\n",
       "</div>"
      ],
      "text/plain": [
       "Empty DataFrame\n",
       "Columns: [日期, 代號, 成交筆數, 總成交金額, 總成交股數, 周轉率(%), 開盤價, 最高價, 最低價, 收盤價, 證券商, 成交單價, 買進股數, 賣出股數]\n",
       "Index: []"
      ]
     },
     "execution_count": 8,
     "metadata": {},
     "output_type": "execute_result"
    }
   ],
   "source": [
    "table"
   ]
  },
  {
   "cell_type": "code",
   "execution_count": 13,
   "metadata": {
    "collapsed": false
   },
   "outputs": [
    {
     "data": {
      "text/plain": [
       "'券商買賣證券成交價量資訊\\r\\n證券代碼,3234\\r\\n序號,券商,價格,買進股數,賣出股數,,序號,券商,價格,買進股數,賣出股數\\r\\n驗證碼錯誤或已逾期，請重新查詢\\r\\n'"
      ]
     },
     "execution_count": 13,
     "metadata": {},
     "output_type": "execute_result"
    }
   ],
   "source": [
    "tpexbsreport.csvf.text"
   ]
  },
  {
   "cell_type": "code",
   "execution_count": null,
   "metadata": {
    "collapsed": true
   },
   "outputs": [],
   "source": []
  }
 ],
 "metadata": {
  "anaconda-cloud": {},
  "kernelspec": {
   "display_name": "Python [default]",
   "language": "python",
   "name": "python3"
  },
  "language_info": {
   "codemirror_mode": {
    "name": "ipython",
    "version": 3
   },
   "file_extension": ".py",
   "mimetype": "text/x-python",
   "name": "python",
   "nbconvert_exporter": "python",
   "pygments_lexer": "ipython3",
   "version": "3.5.2"
  }
 },
 "nbformat": 4,
 "nbformat_minor": 1
}
