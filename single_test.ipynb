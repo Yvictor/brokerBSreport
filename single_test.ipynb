{
 "cells": [
  {
   "cell_type": "code",
   "execution_count": 1,
   "metadata": {
    "collapsed": false
   },
   "outputs": [
    {
     "name": "stderr",
     "output_type": "stream",
     "text": [
      "Using Theano backend.\n"
     ]
    }
   ],
   "source": [
    "import random\n",
    "from lxml import etree\n",
    "from twse import twseBSreport\n",
    "from tpex import tpexBSreport"
   ]
  },
  {
   "cell_type": "code",
   "execution_count": 2,
   "metadata": {
    "collapsed": true
   },
   "outputs": [],
   "source": [
    "import requests\n",
    "from bs4 import BeautifulSoup as BS\n",
    "from PIL import Image\n",
    "import io"
   ]
  },
  {
   "cell_type": "code",
   "execution_count": 3,
   "metadata": {
    "collapsed": true
   },
   "outputs": [],
   "source": [
    "from IPython.display import display"
   ]
  },
  {
   "cell_type": "code",
   "execution_count": 7,
   "metadata": {
    "collapsed": false
   },
   "outputs": [],
   "source": [
    "#! pip install google-api-python-client"
   ]
  },
  {
   "cell_type": "code",
   "execution_count": null,
   "metadata": {
    "collapsed": true
   },
   "outputs": [],
   "source": [
    "twsebsreport = twseBSreport()\n",
    "print(twsebsreport.OCR())\n",
    "twse_result = 0\n",
    "while twse_result==0 or twse_result==2:\n",
    "    stock_id = random.choice(twsebsreport.stockidL)\n",
    "    twse_result = twsebsreport.postpayload(stock_id, twsebsreport.OCR(), sleeptime=5)\n",
    "print(twsebsreport.singleprocess(stock_id))"
   ]
  },
  {
   "cell_type": "code",
   "execution_count": 4,
   "metadata": {
    "collapsed": false
   },
   "outputs": [
    {
     "name": "stdout",
     "output_type": "stream",
     "text": [
      "Get TPEX StockId List\n",
      "Done\n"
     ]
    }
   ],
   "source": [
    "tpexbsreport = tpexBSreport()"
   ]
  },
  {
   "cell_type": "code",
   "execution_count": 5,
   "metadata": {
    "collapsed": false
   },
   "outputs": [
    {
     "data": {
      "image/png": "[encoded data removed]",
      "text/plain": [
       "<PIL.PngImagePlugin.PngImageFile image mode=P size=130x30 at 0x7FD5980B90B8>"
      ]
     },
     "metadata": {},
     "output_type": "display_data"
    },
    {
     "data": {
      "text/plain": [
       "'9N4AJ'"
      ]
     },
     "metadata": {},
     "output_type": "display_data"
    },
    {
     "data": {
      "text/plain": [
       "'%F8r%C6%A8%22%D3%FFt%7E%D4%A8a%7D%91%09%01'"
      ]
     },
     "metadata": {},
     "output_type": "display_data"
    }
   ],
   "source": [
    "ocr = tpexbsreport.OCR()\n",
    "display(ocr[0], ocr[1], ocr[2])"
   ]
  },
  {
   "cell_type": "code",
   "execution_count": 11,
   "metadata": {
    "collapsed": false
   },
   "outputs": [],
   "source": [
    "stockid = random.choice(tpexbsreport.stockidL)\n",
    "payload = { 'enname' : ocr[2],#('%25').join(enname.split('%'))\n",
    "            'stk_code': '%s' % str(stockid),\n",
    "            'auth_num': ocr[1]\n",
    "        }\n",
    "res = tpexbsreport.rs.post('http://www.tpex.org.tw/web/stock/aftertrading/broker_trading/brokerBS.php', data=payload)\n",
    "res.encoding = 'utf-8'\n",
    "soup = BS(res.text, \"lxml\")\n",
    "answ = soup.select('.pt10')[0].text"
   ]
  },
  {
   "cell_type": "code",
   "execution_count": 13,
   "metadata": {
    "collapsed": true
   },
   "outputs": [],
   "source": [
    "stock_id = random.choice(tpexbsreport.stockidL)\n",
    "tpex_result = tpexbsreport.postpayload(stock_id, tpexbsreport.OCR(), urltype=5)"
   ]
  },
  {
   "cell_type": "code",
   "execution_count": 12,
   "metadata": {
    "collapsed": false
   },
   "outputs": [
    {
     "data": {
      "text/plain": [
       "'\\n\\n\\n交易日期\\n106年01月19日\\n證券代號\\n3234\\xa0光環\\n\\n\\n成交筆數\\n1,737\\n成交金額\\n151,303,443&nbsp元\\n成交股數\\n2,749,511\\n週轉率(%)\\n3.78\\n\\n\\n開盤價\\n54.20\\n最高價\\n55.60  \\n最低價\\n54.00\\n收盤價\\n55.40\\n\\n\\n'"
      ]
     },
     "execution_count": 12,
     "metadata": {},
     "output_type": "execute_result"
    }
   ],
   "source": [
    "tpexbsreport.answ"
   ]
  },
  {
   "cell_type": "code",
   "execution_count": null,
   "metadata": {
    "collapsed": true
   },
   "outputs": [],
   "source": [
    "#http://www.tpex.org.tw/web/stock/aftertrading/broker_trading/download_ALLCSV_UTF-8.php?curstk=3234&stk_date=1060119&auth=3W6UW&n=%D6%5B-a%1D%0A%19%E7%E7%D6%03%FA%5C2%D2%81"
   ]
  },
  {
   "cell_type": "code",
   "execution_count": null,
   "metadata": {
    "collapsed": true
   },
   "outputs": [],
   "source": []
  },
  {
   "cell_type": "code",
   "execution_count": 23,
   "metadata": {
    "collapsed": true
   },
   "outputs": [],
   "source": [
    "def _get_session():\n",
    "    session = requests.session()\n",
    "    headers = {\n",
    "        \"user-agent\": \"mozilla/5.0 (x11; linux x86_64) applewebkit/537.36 \"\n",
    "                      \"(khtml, like gecko) \"\n",
    "                      \"chrome/46.0.2490.86 safari/537.36\"}\n",
    "    session.headers.update(headers)\n",
    "    return session"
   ]
  },
  {
   "cell_type": "code",
   "execution_count": 29,
   "metadata": {
    "collapsed": true
   },
   "outputs": [],
   "source": [
    "rs = _get_session()"
   ]
  },
  {
   "cell_type": "code",
   "execution_count": 30,
   "metadata": {
    "collapsed": false
   },
   "outputs": [
    {
     "data": {
      "text/plain": [
       "'%B4%B3%10%B6%FF%13R3mO%F5d%1Al%3D%3A'"
      ]
     },
     "execution_count": 30,
     "metadata": {},
     "output_type": "execute_result"
    }
   ],
   "source": [
    "res = rs.get('http://www.tpex.org.tw/web/stock/aftertrading/broker_trading/brokerBS.php')\n",
    "res.encoding = 'utf-8'\n",
    "soup = BS(res.text, \"lxml\")\n",
    "enname=soup.select('.form-inline input')[0].attrs['value']#'%2516%25D2%2505%25A2k%250E%25E3%25EC2%2598%25F50%25CE9%25EE%251C'\n",
    "enname"
   ]
  },
  {
   "cell_type": "code",
   "execution_count": 31,
   "metadata": {
    "collapsed": false
   },
   "outputs": [
    {
     "data": {
      "image/png": "[encoded data removed]",
      "text/plain": [
       "<PIL.PngImagePlugin.PngImageFile image mode=P size=130x30 at 0x7F45E1943208>"
      ]
     },
     "execution_count": 31,
     "metadata": {},
     "output_type": "execute_result"
    }
   ],
   "source": [
    "capt = rs.get('http://www.tpex.org.tw/web/inc/authnum_output.php?n=%s'%enname, verify=False)\n",
    "Image.open(io.BytesIO(capt.content))"
   ]
  },
  {
   "cell_type": "code",
   "execution_count": 32,
   "metadata": {
    "collapsed": false
   },
   "outputs": [
    {
     "data": {
      "text/plain": [
       "'GBVX9'"
      ]
     },
     "execution_count": 32,
     "metadata": {},
     "output_type": "execute_result"
    }
   ],
   "source": [
    "capt_str = tpexbsreport.captcha_rec.captcha_predict(tpexbsreport.captcha_rec.preprocess(Image.open(io.BytesIO(capt.content))))\n",
    "capt_str"
   ]
  },
  {
   "cell_type": "code",
   "execution_count": 33,
   "metadata": {
    "collapsed": false
   },
   "outputs": [],
   "source": [
    "stockid = 3234\n",
    "payload = { 'enname' : enname,#('%25').join(enname.split('%'))\n",
    "            'stk_code': '%s' % str(stockid),\n",
    "            'auth_num': capt_str\n",
    "        }\n",
    "res = rs.post('http://www.tpex.org.tw/web/stock/aftertrading/broker_trading/brokerBS.php', data=payload)\n",
    "res.encoding = 'utf-8'\n",
    "soup = BS(res.text, \"lxml\")\n",
    "answ = soup.select('.pt10')[0].text\n",
    "answ"
   ]
  },
  {
   "cell_type": "code",
   "execution_count": null,
   "metadata": {
    "collapsed": true
   },
   "outputs": [],
   "source": [
    "tpe"
   ]
  },
  {
   "cell_type": "code",
   "execution_count": 11,
   "metadata": {
    "collapsed": false
   },
   "outputs": [],
   "source": [
    "tpex_result = 0\n",
    "while tpex_result==0: #or tpex_result==2:\n",
    "    stock_id = random.choice(tpexbsreport.stockidL)\n",
    "    tpex_result = tpexbsreport.postpayload(stock_id, tpexbsreport.OCR(), urltype=5)\n",
    "#print(tpexbsreport.singleprocess(stock_id))"
   ]
  },
  {
   "cell_type": "code",
   "execution_count": 6,
   "metadata": {
    "collapsed": false
   },
   "outputs": [
    {
     "name": "stdout",
     "output_type": "stream",
     "text": [
      "\r",
      " 3234重新取得驗證碼次數:0"
     ]
    },
    {
     "data": {
      "text/plain": [
       "1"
      ]
     },
     "execution_count": 6,
     "metadata": {},
     "output_type": "execute_result"
    }
   ],
   "source": [
    "stockid = 3234\n",
    "tpexbsreport.post_process(stockid)"
   ]
  },
  {
   "cell_type": "code",
   "execution_count": 7,
   "metadata": {
    "collapsed": true
   },
   "outputs": [],
   "source": [
    "table = tpexbsreport._process_ori_data(stockid)"
   ]
  },
  {
   "cell_type": "code",
   "execution_count": null,
   "metadata": {
    "collapsed": true
   },
   "outputs": [],
   "source": []
  }
 ],
 "metadata": {
  "anaconda-cloud": {},
  "kernelspec": {
   "display_name": "Python [default]",
   "language": "python",
   "name": "python3"
  },
  "language_info": {
   "codemirror_mode": {
    "name": "ipython",
    "version": 3
   },
   "file_extension": ".py",
   "mimetype": "text/x-python",
   "name": "python",
   "nbconvert_exporter": "python",
   "pygments_lexer": "ipython3",
   "version": "3.5.2"
  }
 },
 "nbformat": 4,
 "nbformat_minor": 1
}
