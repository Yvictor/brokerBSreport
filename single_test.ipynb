{
 "cells": [
  {
   "cell_type": "code",
   "execution_count": 1,
   "metadata": {
    "collapsed": false
   },
   "outputs": [
    {
     "name": "stderr",
     "output_type": "stream",
     "text": [
      "Using Theano backend.\n"
     ]
    }
   ],
   "source": [
    "import random\n",
    "from lxml import etree\n",
    "from twse import twseBSreport\n",
    "from tpex import tpexBSreport"
   ]
  },
  {
   "cell_type": "code",
   "execution_count": 9,
   "metadata": {
    "collapsed": true
   },
   "outputs": [],
   "source": [
    "import requests\n",
    "from bs4 import BeautifulSoup as BS\n",
    "from PIL import Image\n",
    "import io"
   ]
  },
  {
   "cell_type": "code",
   "execution_count": 2,
   "metadata": {
    "collapsed": true
   },
   "outputs": [],
   "source": [
    "from IPython.display import display"
   ]
  },
  {
   "cell_type": "code",
   "execution_count": 7,
   "metadata": {
    "collapsed": false
   },
   "outputs": [],
   "source": [
    "#! pip install google-api-python-client"
   ]
  },
  {
   "cell_type": "code",
   "execution_count": null,
   "metadata": {
    "collapsed": true
   },
   "outputs": [],
   "source": [
    "twsebsreport = twseBSreport()\n",
    "print(twsebsreport.OCR())\n",
    "twse_result = 0\n",
    "while twse_result==0 or twse_result==2:\n",
    "    stock_id = random.choice(twsebsreport.stockidL)\n",
    "    twse_result = twsebsreport.postpayload(stock_id, twsebsreport.OCR(), sleeptime=5)\n",
    "print(twsebsreport.singleprocess(stock_id))"
   ]
  },
  {
   "cell_type": "code",
   "execution_count": 3,
   "metadata": {
    "collapsed": false
   },
   "outputs": [
    {
     "name": "stdout",
     "output_type": "stream",
     "text": [
      "Get TPEX StockId List\n",
      "Done\n"
     ]
    }
   ],
   "source": [
    "tpexbsreport = tpexBSreport()"
   ]
  },
  {
   "cell_type": "code",
   "execution_count": 5,
   "metadata": {
    "collapsed": false
   },
   "outputs": [
    {
     "data": {
      "image/png": "[encoded data removed]",
      "text/plain": [
       "<PIL.PngImagePlugin.PngImageFile image mode=P size=130x30 at 0x7FA8A220CA90>"
      ]
     },
     "metadata": {},
     "output_type": "display_data"
    },
    {
     "data": {
      "text/plain": [
       "'A75GU'"
      ]
     },
     "metadata": {},
     "output_type": "display_data"
    },
    {
     "data": {
      "text/plain": [
       "'%D9%23%EDNA%A7E%1F%CE%40w%26M%B2%F5%A6'"
      ]
     },
     "metadata": {},
     "output_type": "display_data"
    }
   ],
   "source": [
    "ocr = tpexbsreport.OCR()\n",
    "display(ocr[0], ocr[1], ocr[2])"
   ]
  },
  {
   "cell_type": "code",
   "execution_count": 8,
   "metadata": {
    "collapsed": false
   },
   "outputs": [],
   "source": [
    "stockid = random.choice(tpexbsreport.stockidL)\n",
    "payload = { 'enname' : ocr[2],#('%25').join(enname.split('%'))\n",
    "            'stk_code': '%s' % str(stockid),\n",
    "            'auth_num': ocr[1]\n",
    "        }\n",
    "res = tpexbsreport.rs.post('http://www.tpex.org.tw/web/stock/aftertrading/broker_trading/brokerBS.php', data=payload)\n",
    "res.encoding = 'utf-8'\n",
    "soup = BS(res.text, \"lxml\")\n",
    "answ = soup.select('.pt10')[0].text"
   ]
  },
  {
   "cell_type": "code",
   "execution_count": 13,
   "metadata": {
    "collapsed": true
   },
   "outputs": [],
   "source": [
    "stock_id = random.choice(tpexbsreport.stockidL)\n",
    "tpex_result = tpexbsreport.postpayload(stock_id, tpexbsreport.OCR(), urltype=5)"
   ]
  },
  {
   "cell_type": "code",
   "execution_count": 14,
   "metadata": {
    "collapsed": false
   },
   "outputs": [
    {
     "data": {
      "text/plain": [
       "'\\n ***驗證碼錯誤，請重新查詢。*** \\n'"
      ]
     },
     "execution_count": 14,
     "metadata": {},
     "output_type": "execute_result"
    }
   ],
   "source": [
    "tpexbsreport.answ"
   ]
  },
  {
   "cell_type": "code",
   "execution_count": 23,
   "metadata": {
    "collapsed": true
   },
   "outputs": [],
   "source": [
    "def _get_session():\n",
    "    session = requests.session()\n",
    "    headers = {\n",
    "        \"user-agent\": \"mozilla/5.0 (x11; linux x86_64) applewebkit/537.36 \"\n",
    "                      \"(khtml, like gecko) \"\n",
    "                      \"chrome/46.0.2490.86 safari/537.36\"}\n",
    "    session.headers.update(headers)\n",
    "    return session"
   ]
  },
  {
   "cell_type": "code",
   "execution_count": 29,
   "metadata": {
    "collapsed": true
   },
   "outputs": [],
   "source": [
    "rs = _get_session()"
   ]
  },
  {
   "cell_type": "code",
   "execution_count": 30,
   "metadata": {
    "collapsed": false
   },
   "outputs": [
    {
     "data": {
      "text/plain": [
       "'%B4%B3%10%B6%FF%13R3mO%F5d%1Al%3D%3A'"
      ]
     },
     "execution_count": 30,
     "metadata": {},
     "output_type": "execute_result"
    }
   ],
   "source": [
    "res = rs.get('http://www.tpex.org.tw/web/stock/aftertrading/broker_trading/brokerBS.php')\n",
    "res.encoding = 'utf-8'\n",
    "soup = BS(res.text, \"lxml\")\n",
    "enname=soup.select('.form-inline input')[0].attrs['value']#'%2516%25D2%2505%25A2k%250E%25E3%25EC2%2598%25F50%25CE9%25EE%251C'\n",
    "enname"
   ]
  },
  {
   "cell_type": "code",
   "execution_count": 31,
   "metadata": {
    "collapsed": false
   },
   "outputs": [
    {
     "data": {
      "image/png": "[encoded data removed]",
      "text/plain": [
       "<PIL.PngImagePlugin.PngImageFile image mode=P size=130x30 at 0x7F45E1943208>"
      ]
     },
     "execution_count": 31,
     "metadata": {},
     "output_type": "execute_result"
    }
   ],
   "source": [
    "capt = rs.get('http://www.tpex.org.tw/web/inc/authnum_output.php?n=%s'%enname, verify=False)\n",
    "Image.open(io.BytesIO(capt.content))"
   ]
  },
  {
   "cell_type": "code",
   "execution_count": 32,
   "metadata": {
    "collapsed": false
   },
   "outputs": [
    {
     "data": {
      "text/plain": [
       "'GBVX9'"
      ]
     },
     "execution_count": 32,
     "metadata": {},
     "output_type": "execute_result"
    }
   ],
   "source": [
    "capt_str = tpexbsreport.captcha_rec.captcha_predict(tpexbsreport.captcha_rec.preprocess(Image.open(io.BytesIO(capt.content))))\n",
    "capt_str"
   ]
  },
  {
   "cell_type": "code",
   "execution_count": 33,
   "metadata": {
    "collapsed": false
   },
   "outputs": [],
   "source": [
    "stockid = 3234\n",
    "payload = { 'enname' : enname,#('%25').join(enname.split('%'))\n",
    "            'stk_code': '%s' % str(stockid),\n",
    "            'auth_num': capt_str\n",
    "        }\n",
    "res = rs.post('http://www.tpex.org.tw/web/stock/aftertrading/broker_trading/brokerBS.php', data=payload)\n",
    "res.encoding = 'utf-8'\n",
    "soup = BS(res.text, \"lxml\")\n",
    "answ = soup.select('.pt10')[0].text\n",
    "answ"
   ]
  },
  {
   "cell_type": "code",
   "execution_count": null,
   "metadata": {
    "collapsed": true
   },
   "outputs": [],
   "source": []
  },
  {
   "cell_type": "code",
   "execution_count": 11,
   "metadata": {
    "collapsed": false
   },
   "outputs": [],
   "source": [
    "tpex_result = 0\n",
    "while tpex_result==0: #or tpex_result==2:\n",
    "    stock_id = random.choice(tpexbsreport.stockidL)\n",
    "    tpex_result = tpexbsreport.postpayload(stock_id, tpexbsreport.OCR(), urltype=5)\n",
    "#print(tpexbsreport.singleprocess(stock_id))"
   ]
  },
  {
   "cell_type": "code",
   "execution_count": null,
   "metadata": {
    "collapsed": true
   },
   "outputs": [],
   "source": []
  }
 ],
 "metadata": {
  "kernelspec": {
   "display_name": "Python 3",
   "language": "python",
   "name": "python3"
  },
  "language_info": {
   "codemirror_mode": {
    "name": "ipython",
    "version": 3
   },
   "file_extension": ".py",
   "mimetype": "text/x-python",
   "name": "python",
   "nbconvert_exporter": "python",
   "pygments_lexer": "ipython3",
   "version": "3.5.2"
  }
 },
 "nbformat": 4,
 "nbformat_minor": 1
}
